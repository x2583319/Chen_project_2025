{
 "cells": [
  {
   "cell_type": "code",
   "execution_count": 2,
   "metadata": {},
   "outputs": [
    {
     "name": "stderr",
     "output_type": "stream",
     "text": [
      "\r",
      "  0%|                                                     | 0/6 [00:00<?, ?it/s]"
     ]
    },
    {
     "name": "stdout",
     "output_type": "stream",
     "text": [
      "Looking for: ./sub-005_task-Test_run-01_bold.nii\n",
      "Looking for: ./sub-005_task-Test_run-01_events.tsv\n"
     ]
    },
    {
     "name": "stderr",
     "output_type": "stream",
     "text": [
      "\r",
      " 17%|███████▌                                     | 1/6 [00:24<02:03, 24.64s/it]"
     ]
    },
    {
     "name": "stdout",
     "output_type": "stream",
     "text": [
      "Looking for: ./sub-005_task-Test_run-02_bold.nii\n",
      "Looking for: ./sub-005_task-Test_run-02_events.tsv\n"
     ]
    },
    {
     "name": "stderr",
     "output_type": "stream",
     "text": [
      "\r",
      " 33%|███████████████                              | 2/6 [00:48<01:37, 24.39s/it]"
     ]
    },
    {
     "name": "stdout",
     "output_type": "stream",
     "text": [
      "Looking for: ./sub-005_task-Test_run-03_bold.nii\n",
      "Looking for: ./sub-005_task-Test_run-03_events.tsv\n"
     ]
    },
    {
     "name": "stderr",
     "output_type": "stream",
     "text": [
      "/Users/chenxuan/anaconda3/lib/python3.11/site-packages/nilearn/maskers/nifti_labels_masker.py:805: UserWarning: After resampling the label image to the data image, the following labels were removed: {4.0, 5.0, 54.0}. Label image only contains 98 labels (including background).\n",
      "  warnings.warn(\n",
      " 50%|██████████████████████▌                      | 3/6 [01:12<01:12, 24.25s/it]"
     ]
    },
    {
     "name": "stdout",
     "output_type": "stream",
     "text": [
      "Looking for: ./sub-005_task-Test_run-04_bold.nii\n",
      "Looking for: ./sub-005_task-Test_run-04_events.tsv\n"
     ]
    },
    {
     "name": "stderr",
     "output_type": "stream",
     "text": [
      "\r",
      " 67%|██████████████████████████████               | 4/6 [01:37<00:48, 24.42s/it]"
     ]
    },
    {
     "name": "stdout",
     "output_type": "stream",
     "text": [
      "Looking for: ./sub-005_task-Test_run-05_bold.nii\n",
      "Looking for: ./sub-005_task-Test_run-05_events.tsv\n"
     ]
    },
    {
     "name": "stderr",
     "output_type": "stream",
     "text": [
      "\r",
      " 83%|█████████████████████████████████████▌       | 5/6 [02:02<00:24, 24.51s/it]"
     ]
    },
    {
     "name": "stdout",
     "output_type": "stream",
     "text": [
      "Looking for: ./sub-005_task-Test_run-06_bold.nii\n",
      "Looking for: ./sub-005_task-Test_run-06_events.tsv\n"
     ]
    },
    {
     "name": "stderr",
     "output_type": "stream",
     "text": [
      "100%|█████████████████████████████████████████████| 6/6 [02:21<00:00, 23.58s/it]"
     ]
    },
    {
     "name": "stdout",
     "output_type": "stream",
     "text": [
      "✅ All runs processed!\n",
      "Total trials: 164\n",
      "Feature shape per trial: 4950\n",
      "Unique genres: ['blues' 'classical' 'country' 'disco' 'hiphop' 'jazz' 'metal' 'pop'\n",
      " 'reggae' 'rock']\n"
     ]
    },
    {
     "name": "stderr",
     "output_type": "stream",
     "text": [
      "\n"
     ]
    }
   ],
   "source": [
    "import os\n",
    "import nibabel as nib\n",
    "import pandas as pd\n",
    "import numpy as np\n",
    "from nilearn.input_data import NiftiLabelsMasker\n",
    "from nilearn import datasets\n",
    "from tqdm import tqdm  # progress bar\n",
    "\n",
    "# Set up\n",
    "base_path = \".\"\n",
    "subject = \"sub-005\"\n",
    "n_runs = 6\n",
    "t_r = 2.0  # repetition time (2 seconds)\n",
    "\n",
    "# Load atlas & prepare masker\n",
    "atlas = datasets.fetch_atlas_schaefer_2018(n_rois=100, resolution_mm=2)\n",
    "masker = NiftiLabelsMasker(labels_img=atlas.maps, standardize=True, t_r=t_r)\n",
    "\n",
    "# Prepare result lists\n",
    "X_all = []\n",
    "y_all = []\n",
    "\n",
    "# Loop through all 6 runs\n",
    "for run in tqdm(range(1, n_runs + 1)):\n",
    "    run_str = f\"run-0{run}\"\n",
    "    bold_file = f\"{base_path}/{subject}_task-Test_{run_str}_bold.nii\"\n",
    "    events_file = f\"{base_path}/{subject}_task-Test_{run_str}_events.tsv\"\n",
    "\n",
    "    # Check if both files exist\n",
    "    \n",
    "    print(f\"Looking for: {bold_file}\")\n",
    "    print(f\"Looking for: {events_file}\")\n",
    "\n",
    "\n",
    "    if not os.path.exists(bold_file) or not os.path.exists(events_file):\n",
    "        print(f\"Missing: {run_str}\")\n",
    "        continue\n",
    "\n",
    "    # Load data\n",
    "    func_img = nib.load(bold_file)\n",
    "    events = pd.read_csv(events_file, sep=\"\\t\")\n",
    "    roi_ts = masker.fit_transform(func_img)  # shape: [timepoints, 100]\n",
    "\n",
    "    # Segment into trials\n",
    "    for _, row in events.iterrows():\n",
    "        onset = row['onset']\n",
    "        duration = row['duration']\n",
    "        genre = row['genre'].strip(\"'\").strip('\"')\n",
    "\n",
    "        start_vol = int(onset / t_r)\n",
    "        end_vol = int((onset + duration) / t_r)\n",
    "        trial_ts = roi_ts[start_vol:end_vol, :]\n",
    "\n",
    "        if trial_ts.shape[0] < 2:\n",
    "            continue  # skip too-short segments\n",
    "\n",
    "        # Compute connectivity\n",
    "        conn_matrix = np.corrcoef(trial_ts.T)\n",
    "\n",
    "        # Flatten upper triangle\n",
    "        try:\n",
    "            flat = conn_matrix[np.triu_indices_from(conn_matrix, k=1)]\n",
    "            if not np.isnan(flat).any() and len(flat) == 4950:\n",
    "                X_all.append(flat)\n",
    "                y_all.append(genre)\n",
    "        except:\n",
    "            print(f\"⚠️ Skipped a trial due to shape or NaN issue.\")\n",
    "\n",
    "\n",
    "# Convert to numpy arrays\n",
    "X_all = np.array(X_all)\n",
    "y_all = np.array(y_all)\n",
    "\n",
    "print(\"✅ All runs processed!\")\n",
    "print(\"Total trials:\", X_all.shape[0])\n",
    "print(\"Feature shape per trial:\", X_all.shape[1])\n",
    "print(\"Unique genres:\", np.unique(y_all))\n",
    "\n",
    "# 💾 Save X_all for later visualization use\n",
    "np.save(\"X_all.npy\", X_all)"
   ]
  },
  {
   "cell_type": "code",
   "execution_count": 3,
   "metadata": {},
   "outputs": [
    {
     "name": "stdout",
     "output_type": "stream",
     "text": [
      "🎯 Mean cross-validated accuracy: 0.13389450056116722\n"
     ]
    }
   ],
   "source": [
    "from sklearn.ensemble import RandomForestClassifier\n",
    "from sklearn.model_selection import cross_val_score\n",
    "\n",
    "clf = RandomForestClassifier(n_estimators=100, random_state=42)\n",
    "scores = cross_val_score(clf, X_all, y_all, cv=3)\n",
    "\n",
    "print(\"🎯 Mean cross-validated accuracy:\", scores.mean())"
   ]
  },
  {
   "cell_type": "code",
   "execution_count": null,
   "metadata": {},
   "outputs": [],
   "source": []
  }
 ],
 "metadata": {
  "kernelspec": {
   "display_name": "Python 3 (ipykernel)",
   "language": "python",
   "name": "python3"
  },
  "language_info": {
   "codemirror_mode": {
    "name": "ipython",
    "version": 3
   },
   "file_extension": ".py",
   "mimetype": "text/x-python",
   "name": "python",
   "nbconvert_exporter": "python",
   "pygments_lexer": "ipython3",
   "version": "3.11.4"
  }
 },
 "nbformat": 4,
 "nbformat_minor": 2
}
